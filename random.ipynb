{
 "cells": [
  {
   "cell_type": "code",
   "execution_count": 3,
   "id": "28806161",
   "metadata": {},
   "outputs": [],
   "source": [
    "import numpy as np\n",
    "import pandas as pd\n",
    "import matplotlib.pyplot as pt\n",
    "import seaborn as sns\n",
    "%matplotlib inline"
   ]
  },
  {
   "cell_type": "code",
   "execution_count": 4,
   "id": "f3c0517c",
   "metadata": {},
   "outputs": [],
   "source": [
    "!pip install opendatasets --upgrade --quiet"
   ]
  },
  {
   "cell_type": "code",
   "execution_count": 7,
   "id": "c82897be",
   "metadata": {},
   "outputs": [
    {
     "name": "stdout",
     "output_type": "stream",
     "text": [
      "Please provide your Kaggle credentials to download this dataset. Learn more: http://bit.ly/kaggle-creds\n",
      "Your Kaggle username: sudhagarv232\n",
      "Your Kaggle Key: ········\n"
     ]
    },
    {
     "name": "stderr",
     "output_type": "stream",
     "text": [
      "\r",
      "  0%|                                               | 0.00/386k [00:00<?, ?B/s]"
     ]
    },
    {
     "name": "stdout",
     "output_type": "stream",
     "text": [
      "Downloading home-data-for-ml-course.zip to .\\home-data-for-ml-course\n"
     ]
    },
    {
     "name": "stderr",
     "output_type": "stream",
     "text": [
      "100%|████████████████████████████████████████| 386k/386k [00:01<00:00, 374kB/s]\n"
     ]
    },
    {
     "name": "stdout",
     "output_type": "stream",
     "text": [
      "\n",
      "Extracting archive .\\home-data-for-ml-course/home-data-for-ml-course.zip to .\\home-data-for-ml-course\n"
     ]
    }
   ],
   "source": [
    "import os\n",
    "import opendatasets as od\n",
    "data=\"https://www.kaggle.com/competitions/home-data-for-ml-course/data\"\n",
    "od.download(data)"
   ]
  },
  {
   "cell_type": "code",
   "execution_count": 22,
   "id": "af5e8caf",
   "metadata": {},
   "outputs": [],
   "source": [
    "xdata=pd.read_csv('home-data-for-ml-course/train.csv',index_col='Id')\n",
    "ydata=pd.read_csv('home-data-for-ml-course/test.csv',index_col='Id' )\n"
   ]
  },
  {
   "cell_type": "code",
   "execution_count": 38,
   "id": "ca9e72a3",
   "metadata": {},
   "outputs": [],
   "source": [
    "xdata.dropna(axis=0,subset=['SalePrice'],inplace=True)\n",
    "y=xdata.SalePrice\n",
    "xdata.drop(['SalePrice'],axis=1,inplace=True)"
   ]
  },
  {
   "cell_type": "code",
   "execution_count": 41,
   "id": "304dc0fd",
   "metadata": {},
   "outputs": [],
   "source": [
    "x=xdata.select_dtypes(exclude=['object'])\n",
    "Xtest=ydata.select_dtypes(exclude=['object'])"
   ]
  },
  {
   "cell_type": "code",
   "execution_count": 44,
   "id": "e9829922",
   "metadata": {},
   "outputs": [],
   "source": [
    "from sklearn.model_selection import train_test_split\n",
    "Xtrain,Xtest,Ytrain,Ytest=train_test_split(x,y,train_size=0.8,test_size=0.2)"
   ]
  },
  {
   "cell_type": "code",
   "execution_count": 45,
   "id": "84a0ace7",
   "metadata": {
    "scrolled": true
   },
   "outputs": [
    {
     "data": {
      "text/html": [
       "<div>\n",
       "<style scoped>\n",
       "    .dataframe tbody tr th:only-of-type {\n",
       "        vertical-align: middle;\n",
       "    }\n",
       "\n",
       "    .dataframe tbody tr th {\n",
       "        vertical-align: top;\n",
       "    }\n",
       "\n",
       "    .dataframe thead th {\n",
       "        text-align: right;\n",
       "    }\n",
       "</style>\n",
       "<table border=\"1\" class=\"dataframe\">\n",
       "  <thead>\n",
       "    <tr style=\"text-align: right;\">\n",
       "      <th></th>\n",
       "      <th>MSSubClass</th>\n",
       "      <th>LotFrontage</th>\n",
       "      <th>LotArea</th>\n",
       "      <th>OverallQual</th>\n",
       "      <th>OverallCond</th>\n",
       "      <th>YearBuilt</th>\n",
       "      <th>YearRemodAdd</th>\n",
       "      <th>MasVnrArea</th>\n",
       "      <th>BsmtFinSF1</th>\n",
       "      <th>BsmtFinSF2</th>\n",
       "      <th>...</th>\n",
       "      <th>GarageArea</th>\n",
       "      <th>WoodDeckSF</th>\n",
       "      <th>OpenPorchSF</th>\n",
       "      <th>EnclosedPorch</th>\n",
       "      <th>3SsnPorch</th>\n",
       "      <th>ScreenPorch</th>\n",
       "      <th>PoolArea</th>\n",
       "      <th>MiscVal</th>\n",
       "      <th>MoSold</th>\n",
       "      <th>YrSold</th>\n",
       "    </tr>\n",
       "    <tr>\n",
       "      <th>Id</th>\n",
       "      <th></th>\n",
       "      <th></th>\n",
       "      <th></th>\n",
       "      <th></th>\n",
       "      <th></th>\n",
       "      <th></th>\n",
       "      <th></th>\n",
       "      <th></th>\n",
       "      <th></th>\n",
       "      <th></th>\n",
       "      <th></th>\n",
       "      <th></th>\n",
       "      <th></th>\n",
       "      <th></th>\n",
       "      <th></th>\n",
       "      <th></th>\n",
       "      <th></th>\n",
       "      <th></th>\n",
       "      <th></th>\n",
       "      <th></th>\n",
       "      <th></th>\n",
       "    </tr>\n",
       "  </thead>\n",
       "  <tbody>\n",
       "    <tr>\n",
       "      <th>755</th>\n",
       "      <td>20</td>\n",
       "      <td>61.0</td>\n",
       "      <td>7930</td>\n",
       "      <td>6</td>\n",
       "      <td>8</td>\n",
       "      <td>1969</td>\n",
       "      <td>2005</td>\n",
       "      <td>0.0</td>\n",
       "      <td>439</td>\n",
       "      <td>472</td>\n",
       "      <td>...</td>\n",
       "      <td>440</td>\n",
       "      <td>171</td>\n",
       "      <td>48</td>\n",
       "      <td>0</td>\n",
       "      <td>0</td>\n",
       "      <td>0</td>\n",
       "      <td>0</td>\n",
       "      <td>0</td>\n",
       "      <td>7</td>\n",
       "      <td>2009</td>\n",
       "    </tr>\n",
       "    <tr>\n",
       "      <th>680</th>\n",
       "      <td>20</td>\n",
       "      <td>NaN</td>\n",
       "      <td>9945</td>\n",
       "      <td>5</td>\n",
       "      <td>5</td>\n",
       "      <td>1961</td>\n",
       "      <td>1961</td>\n",
       "      <td>57.0</td>\n",
       "      <td>827</td>\n",
       "      <td>0</td>\n",
       "      <td>...</td>\n",
       "      <td>572</td>\n",
       "      <td>0</td>\n",
       "      <td>0</td>\n",
       "      <td>0</td>\n",
       "      <td>0</td>\n",
       "      <td>0</td>\n",
       "      <td>0</td>\n",
       "      <td>0</td>\n",
       "      <td>10</td>\n",
       "      <td>2007</td>\n",
       "    </tr>\n",
       "    <tr>\n",
       "      <th>1076</th>\n",
       "      <td>70</td>\n",
       "      <td>75.0</td>\n",
       "      <td>13125</td>\n",
       "      <td>7</td>\n",
       "      <td>6</td>\n",
       "      <td>1940</td>\n",
       "      <td>1984</td>\n",
       "      <td>0.0</td>\n",
       "      <td>410</td>\n",
       "      <td>0</td>\n",
       "      <td>...</td>\n",
       "      <td>240</td>\n",
       "      <td>0</td>\n",
       "      <td>0</td>\n",
       "      <td>0</td>\n",
       "      <td>0</td>\n",
       "      <td>0</td>\n",
       "      <td>0</td>\n",
       "      <td>0</td>\n",
       "      <td>7</td>\n",
       "      <td>2007</td>\n",
       "    </tr>\n",
       "    <tr>\n",
       "      <th>293</th>\n",
       "      <td>50</td>\n",
       "      <td>60.0</td>\n",
       "      <td>11409</td>\n",
       "      <td>5</td>\n",
       "      <td>4</td>\n",
       "      <td>1949</td>\n",
       "      <td>2008</td>\n",
       "      <td>0.0</td>\n",
       "      <td>292</td>\n",
       "      <td>0</td>\n",
       "      <td>...</td>\n",
       "      <td>281</td>\n",
       "      <td>0</td>\n",
       "      <td>0</td>\n",
       "      <td>0</td>\n",
       "      <td>0</td>\n",
       "      <td>160</td>\n",
       "      <td>0</td>\n",
       "      <td>0</td>\n",
       "      <td>1</td>\n",
       "      <td>2009</td>\n",
       "    </tr>\n",
       "    <tr>\n",
       "      <th>1334</th>\n",
       "      <td>50</td>\n",
       "      <td>60.0</td>\n",
       "      <td>7200</td>\n",
       "      <td>5</td>\n",
       "      <td>6</td>\n",
       "      <td>1938</td>\n",
       "      <td>1995</td>\n",
       "      <td>0.0</td>\n",
       "      <td>0</td>\n",
       "      <td>0</td>\n",
       "      <td>...</td>\n",
       "      <td>297</td>\n",
       "      <td>0</td>\n",
       "      <td>65</td>\n",
       "      <td>190</td>\n",
       "      <td>0</td>\n",
       "      <td>0</td>\n",
       "      <td>0</td>\n",
       "      <td>0</td>\n",
       "      <td>7</td>\n",
       "      <td>2006</td>\n",
       "    </tr>\n",
       "  </tbody>\n",
       "</table>\n",
       "<p>5 rows × 36 columns</p>\n",
       "</div>"
      ],
      "text/plain": [
       "      MSSubClass  LotFrontage  LotArea  OverallQual  OverallCond  YearBuilt  \\\n",
       "Id                                                                            \n",
       "755           20         61.0     7930            6            8       1969   \n",
       "680           20          NaN     9945            5            5       1961   \n",
       "1076          70         75.0    13125            7            6       1940   \n",
       "293           50         60.0    11409            5            4       1949   \n",
       "1334          50         60.0     7200            5            6       1938   \n",
       "\n",
       "      YearRemodAdd  MasVnrArea  BsmtFinSF1  BsmtFinSF2  ...  GarageArea  \\\n",
       "Id                                                      ...               \n",
       "755           2005         0.0         439         472  ...         440   \n",
       "680           1961        57.0         827           0  ...         572   \n",
       "1076          1984         0.0         410           0  ...         240   \n",
       "293           2008         0.0         292           0  ...         281   \n",
       "1334          1995         0.0           0           0  ...         297   \n",
       "\n",
       "      WoodDeckSF  OpenPorchSF  EnclosedPorch  3SsnPorch  ScreenPorch  \\\n",
       "Id                                                                     \n",
       "755          171           48              0          0            0   \n",
       "680            0            0              0          0            0   \n",
       "1076           0            0              0          0            0   \n",
       "293            0            0              0          0          160   \n",
       "1334           0           65            190          0            0   \n",
       "\n",
       "      PoolArea  MiscVal  MoSold  YrSold  \n",
       "Id                                       \n",
       "755          0        0       7    2009  \n",
       "680          0        0      10    2007  \n",
       "1076         0        0       7    2007  \n",
       "293          0        0       1    2009  \n",
       "1334         0        0       7    2006  \n",
       "\n",
       "[5 rows x 36 columns]"
      ]
     },
     "execution_count": 45,
     "metadata": {},
     "output_type": "execute_result"
    }
   ],
   "source": [
    "Xtrain.head()\n"
   ]
  },
  {
   "cell_type": "code",
   "execution_count": 65,
   "id": "46f335fc",
   "metadata": {},
   "outputs": [
    {
     "data": {
      "text/plain": [
       "MSSubClass       0\n",
       "LotArea          0\n",
       "OverallQual      0\n",
       "OverallCond      0\n",
       "YearBuilt        0\n",
       "YearRemodAdd     0\n",
       "BsmtFinSF1       0\n",
       "BsmtFinSF2       0\n",
       "BsmtUnfSF        0\n",
       "TotalBsmtSF      0\n",
       "1stFlrSF         0\n",
       "2ndFlrSF         0\n",
       "LowQualFinSF     0\n",
       "GrLivArea        0\n",
       "BsmtFullBath     0\n",
       "BsmtHalfBath     0\n",
       "FullBath         0\n",
       "HalfBath         0\n",
       "BedroomAbvGr     0\n",
       "KitchenAbvGr     0\n",
       "TotRmsAbvGrd     0\n",
       "Fireplaces       0\n",
       "GarageCars       0\n",
       "GarageArea       0\n",
       "WoodDeckSF       0\n",
       "OpenPorchSF      0\n",
       "EnclosedPorch    0\n",
       "3SsnPorch        0\n",
       "ScreenPorch      0\n",
       "PoolArea         0\n",
       "MiscVal          0\n",
       "MoSold           0\n",
       "YrSold           0\n",
       "dtype: int64"
      ]
     },
     "execution_count": 65,
     "metadata": {},
     "output_type": "execute_result"
    }
   ],
   "source": [
    "Xtrain.isnull().sum()"
   ]
  },
  {
   "cell_type": "code",
   "execution_count": 51,
   "id": "d1c2c246",
   "metadata": {},
   "outputs": [
    {
     "name": "stdout",
     "output_type": "stream",
     "text": [
      "LotFrontage    210\n",
      "MasVnrArea       6\n",
      "GarageYrBlt     64\n",
      "dtype: int64\n"
     ]
    }
   ],
   "source": [
    "missing=(Xtrain.isnull().sum())\n",
    "print(missing[missing>0])"
   ]
  },
  {
   "cell_type": "code",
   "execution_count": 63,
   "id": "218e5de3",
   "metadata": {},
   "outputs": [
    {
     "name": "stdout",
     "output_type": "stream",
     "text": [
      "length of xtrain 1168\n",
      "length of xtest 292\n"
     ]
    }
   ],
   "source": [
    "mis=[col for col in Xtrain.columns if Xtrain[col].isnull().any()]\n",
    "Xtrain=Xtrain.drop(mis,axis=1)\n",
    "Xtest=Xtest.drop(mis,axis=1)\n",
    "print(\"length of xtrain\",len(Xtrain))\n",
    "print(\"length of xtest\",len(Xtest))"
   ]
  },
  {
   "cell_type": "code",
   "execution_count": 64,
   "id": "851574c8",
   "metadata": {},
   "outputs": [
    {
     "name": "stdout",
     "output_type": "stream",
     "text": [
      "1168\n",
      "292\n"
     ]
    }
   ],
   "source": [
    "print(len(Ytrain))\n",
    "print(len(Ytest))"
   ]
  },
  {
   "cell_type": "code",
   "execution_count": 69,
   "id": "bd9a6802",
   "metadata": {},
   "outputs": [
    {
     "data": {
      "text/plain": [
       "<AxesSubplot:ylabel='Id'>"
      ]
     },
     "execution_count": 69,
     "metadata": {},
     "output_type": "execute_result"
    },
    {
     "data": {
      "image/png": "[encoded data removed]",
      "text/plain": [
       "<Figure size 432x288 with 2 Axes>"
      ]
     },
     "metadata": {
      "needs_background": "light"
     },
     "output_type": "display_data"
    }
   ],
   "source": [
    "sns.heatmap(Xtrain)"
   ]
  },
  {
   "cell_type": "code",
   "execution_count": 77,
   "id": "0b3d87ba",
   "metadata": {},
   "outputs": [],
   "source": [
    "from sklearn.impute import SimpleImputer\n",
    "imp=SimpleImputer(strategy='mean')\n",
    "imputed_xtrain=pd.DataFrame(imp.fit_transform(Xtrain))\n",
    "imputed_xtest=pd.DataFrame(imp.transform(Xtest))\n",
    "imputed_xtrain.columns=Xtrain.columns\n",
    "imputed_xtest.columns=Xtest.columns"
   ]
  },
  {
   "cell_type": "code",
   "execution_count": 89,
   "id": "dd5fe60c",
   "metadata": {},
   "outputs": [
    {
     "data": {
      "text/plain": [
       "RandomForestRegressor(random_state=0)"
      ]
     },
     "execution_count": 89,
     "metadata": {},
     "output_type": "execute_result"
    }
   ],
   "source": [
    "from sklearn.ensemble import RandomForestRegressor\n",
    "model=RandomForestRegressor(n_estimators=100,random_state=0)\n",
    "model.fit(Xtrain,Ytrain)\n"
   ]
  },
  {
   "cell_type": "code",
   "execution_count": 97,
   "id": "3686361a",
   "metadata": {},
   "outputs": [
    {
     "name": "stdout",
     "output_type": "stream",
     "text": [
      "      MSSubClass  LotArea  OverallQual  OverallCond  YearBuilt  YearRemodAdd  \\\n",
      "Id                                                                             \n",
      "485           20     7758            5            7       1962          2001   \n",
      "10           190     7420            5            6       1939          1950   \n",
      "530           20    32668            6            3       1957          1975   \n",
      "629           60    11606            5            5       1969          1969   \n",
      "1306          20    13173            9            5       2006          2007   \n",
      "...          ...      ...          ...          ...        ...           ...   \n",
      "830          160     2544            7            5       2005          2005   \n",
      "573           60    13159            7            5       2009          2009   \n",
      "1207          20     8900            4            4       1966          1966   \n",
      "274           20     9600            6            6       1958          1988   \n",
      "98            20    10921            4            5       1965          1965   \n",
      "\n",
      "      BsmtFinSF1  BsmtFinSF2  BsmtUnfSF  TotalBsmtSF  ...  GarageArea  \\\n",
      "Id                                                    ...               \n",
      "485          588           0        411          999  ...         264   \n",
      "10           851           0        140          991  ...         205   \n",
      "530         1219           0        816         2035  ...         484   \n",
      "629          650           0        390         1040  ...         504   \n",
      "1306        1572           0         80         1652  ...         840   \n",
      "...          ...         ...        ...          ...  ...         ...   \n",
      "830            0           0        600          600  ...         480   \n",
      "573            0           0        846          846  ...         650   \n",
      "1207        1056           0          0         1056  ...         384   \n",
      "274          620         620          0         1240  ...         338   \n",
      "98           520           0        440          960  ...         432   \n",
      "\n",
      "      WoodDeckSF  OpenPorchSF  EnclosedPorch  3SsnPorch  ScreenPorch  \\\n",
      "Id                                                                     \n",
      "485            0          132              0          0            0   \n",
      "10             0            4              0          0            0   \n",
      "530            0            0            200          0            0   \n",
      "629          335            0              0          0            0   \n",
      "1306         404          102              0          0            0   \n",
      "...          ...          ...            ...        ...          ...   \n",
      "830            0          166              0          0            0   \n",
      "573          208          114              0          0            0   \n",
      "1207           0           42              0          0            0   \n",
      "274          289            0              0          0            0   \n",
      "98           120            0              0          0            0   \n",
      "\n",
      "      PoolArea  MiscVal  MoSold  YrSold  \n",
      "Id                                       \n",
      "485          0        0       3    2007  \n",
      "10           0        0       1    2008  \n",
      "530          0        0       3    2007  \n",
      "629          0        0       9    2007  \n",
      "1306         0        0      11    2009  \n",
      "...        ...      ...     ...     ...  \n",
      "830          0        0       7    2006  \n",
      "573          0        0       7    2009  \n",
      "1207         0        0      11    2006  \n",
      "274          0        0       4    2009  \n",
      "98           0        0       5    2007  \n",
      "\n",
      "[292 rows x 33 columns]\n"
     ]
    }
   ],
   "source": [
    "print(Xtest)"
   ]
  },
  {
   "cell_type": "code",
   "execution_count": 116,
   "id": "3ade57b0",
   "metadata": {},
   "outputs": [
    {
     "name": "stdout",
     "output_type": "stream",
     "text": [
      "19622.86957762557\n"
     ]
    }
   ],
   "source": [
    "from sklearn.metrics import mean_absolute_error\n",
    "pred=model.predict(Xtest)\n",
    "print(mean_absolute_error(Ytest,pred))"
   ]
  },
  {
   "cell_type": "code",
   "execution_count": 134,
   "id": "a2b349ec",
   "metadata": {},
   "outputs": [
    {
     "name": "stderr",
     "output_type": "stream",
     "text": [
      "No handles with labels found to put in legend.\n"
     ]
    },
    {
     "data": {
      "image/png": "[encoded data removed]",
      "text/plain": [
       "<Figure size 720x720 with 1 Axes>"
      ]
     },
     "metadata": {
      "needs_background": "light"
     },
     "output_type": "display_data"
    }
   ],
   "source": [
    "pt.figure(figsize=(10,10))\n",
    "pt.scatter(Ytest,pred,alpha=1)\n",
    "pt.plot([min(Ytest),max(Ytest)],[min(Ytest),max(Ytest)],color='red')\n",
    "pt.title(\"RandomForest reggression\")\n",
    "pt.legend()\n",
    "\n",
    "pt.grid(True)"
   ]
  },
  {
   "cell_type": "code",
   "execution_count": 144,
   "id": "b3f45415",
   "metadata": {
    "collapsed": true
   },
   "outputs": [
    {
     "name": "stdout",
     "output_type": "stream",
     "text": [
      "predicitons [127000 119000 244000 185000 377500 125500 240000 185000 130000 191000\n",
      " 171500  79000 124000 225000 127000 228500 135000 119000 290000 167000\n",
      " 157500 285000 119000 211000 155000 119000 124000 168500 319000 187500\n",
      " 140000 235128 110000 143000 281213 179000 168000 131500 210000 155000\n",
      " 128000 128000 129000 127000 236000 133000 159500 174900 118500 137000\n",
      " 230000  82000 140000 158000 307000 141000 155000  87000 175000 145000\n",
      " 141000 187500 250000 188000 250000 134000 214000 160000 126000 130000\n",
      " 262500 115000 100000 250000 255500 275000 154000 210000  83000 140000\n",
      " 140000 155000 361919 290000 132000  52500 176000 190000 181000 274000\n",
      " 137000 179900 178000 205000 126000 107500 145000 127000 180500 104900\n",
      " 214000 140000 235000 100000 150000 175500  80000 189000 192000 125000\n",
      " 375000 231500  92000 192000 340000 221000 220000 133000  97000 146000\n",
      " 269790 278000 135000 105500 132000 124000 165000 176432 140000  37900\n",
      " 159500  91300 138500 325624 215000 130000 275000 149000 106500 128500\n",
      " 225000 115000 163990 155000  91000 178000 175000 245000 260000 205000\n",
      " 139000 185000 143000 155000 240000 260000  91000 112000  87000 139000\n",
      " 112000 170000 190000 133000 155000 171900 180000 325624 107500 119000\n",
      " 232000 119000 193879 118964 129000 135000 124500 155000 145000 171000\n",
      " 319000 145000 188000 183000 200100 129000 167000 149900 290000 107500\n",
      " 100000 128000 269790 250000 485000 149900 315000  85000 115000 246578\n",
      " 290000 140000 372500 145000 100000 138500 168000 225000 167000 250000\n",
      " 186500 159500 412500  68500 108000 137000 133000 122000 250000 260000\n",
      " 202500 207500 215000 134432 269790 113000 145000 171900 236000 152000\n",
      " 102000 119000 112000 147000 227000 255500 140000  81000 137000 240000\n",
      " 113000 424870 290000 260000  79000 108000 156000 100000 132500 147000\n",
      " 319000 143000 136500 105000  84500 125000 135000 156000 138500 232000\n",
      " 140000 148000 181134 124500  67000 149350 226000 269790 181134 140000\n",
      " 191000 181000 134500 119000 394432 225000 207000 325000 128000 140000\n",
      " 451950 152000 149500 115000 167240 335000 280000 151000 252678 138500\n",
      " 153000 108000]\n"
     ]
    }
   ],
   "source": [
    "from sklearn.ensemble import RandomForestClassifier\n",
    "from sklearn.metrics import confusion_matrix\n",
    "fores=RandomForestClassifier(n_estimators=100)\n",
    "fores.fit(Xtrain,Ytrain)\n",
    "pred=fores.predict(Xtest)\n",
    "print(\"predicitons\",pred)\n"
   ]
  },
  {
   "cell_type": "code",
   "execution_count": null,
   "id": "1b3529bf",
   "metadata": {},
   "outputs": [],
   "source": [
    "con=confusion_matrix(Ytest,pred)\n",
    "sns.heatmap(con)"
   ]
  },
  {
   "cell_type": "code",
   "execution_count": 114,
   "id": "88dceb1d",
   "metadata": {},
   "outputs": [
    {
     "name": "stdout",
     "output_type": "stream",
     "text": [
      "[[0. 0. 1. 0.]\n",
      " [1. 0. 0. 0.]\n",
      " [0. 1. 0. 0.]\n",
      " [0. 0. 0. 1.]]\n"
     ]
    },
    {
     "data": {
      "text/html": [
       "<div>\n",
       "<style scoped>\n",
       "    .dataframe tbody tr th:only-of-type {\n",
       "        vertical-align: middle;\n",
       "    }\n",
       "\n",
       "    .dataframe tbody tr th {\n",
       "        vertical-align: top;\n",
       "    }\n",
       "\n",
       "    .dataframe thead th {\n",
       "        text-align: right;\n",
       "    }\n",
       "</style>\n",
       "<table border=\"1\" class=\"dataframe\">\n",
       "  <thead>\n",
       "    <tr style=\"text-align: right;\">\n",
       "      <th></th>\n",
       "      <th>0_blue</th>\n",
       "      <th>0_green</th>\n",
       "      <th>0_red</th>\n",
       "      <th>0_sudha</th>\n",
       "    </tr>\n",
       "  </thead>\n",
       "  <tbody>\n",
       "    <tr>\n",
       "      <th>0</th>\n",
       "      <td>0</td>\n",
       "      <td>0</td>\n",
       "      <td>1</td>\n",
       "      <td>0</td>\n",
       "    </tr>\n",
       "    <tr>\n",
       "      <th>1</th>\n",
       "      <td>1</td>\n",
       "      <td>0</td>\n",
       "      <td>0</td>\n",
       "      <td>0</td>\n",
       "    </tr>\n",
       "    <tr>\n",
       "      <th>2</th>\n",
       "      <td>0</td>\n",
       "      <td>1</td>\n",
       "      <td>0</td>\n",
       "      <td>0</td>\n",
       "    </tr>\n",
       "    <tr>\n",
       "      <th>3</th>\n",
       "      <td>0</td>\n",
       "      <td>0</td>\n",
       "      <td>0</td>\n",
       "      <td>1</td>\n",
       "    </tr>\n",
       "  </tbody>\n",
       "</table>\n",
       "</div>"
      ],
      "text/plain": [
       "   0_blue  0_green  0_red  0_sudha\n",
       "0       0        0      1        0\n",
       "1       1        0      0        0\n",
       "2       0        1      0        0\n",
       "3       0        0      0        1"
      ]
     },
     "execution_count": 114,
     "metadata": {},
     "output_type": "execute_result"
    }
   ],
   "source": [
    "from sklearn.preprocessing import OneHotEncoder\n",
    "import numpy as np\n",
    "encode=OneHotEncoder()\n",
    "data=[['red'],['blue'],['green'],['sudha']]\n",
    "encode.fit(data)\n",
    "encodedata=encode.transform(data).toarray()\n",
    "print(encodedata)\n",
    "\n",
    "#dummies\n",
    "df=pd.DataFrame(data)\n",
    "pd.get_dummies(df)"
   ]
  }
 ],
 "metadata": {
  "kernelspec": {
   "display_name": "Python 3",
   "language": "python",
   "name": "python3"
  },
  "language_info": {
   "codemirror_mode": {
    "name": "ipython",
    "version": 3
   },
   "file_extension": ".py",
   "mimetype": "text/x-python",
   "name": "python",
   "nbconvert_exporter": "python",
   "pygments_lexer": "ipython3",
   "version": "3.8.8"
  }
 },
 "nbformat": 4,
 "nbformat_minor": 5
}
